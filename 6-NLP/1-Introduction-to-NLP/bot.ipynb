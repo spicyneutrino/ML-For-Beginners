{
 "cells": [
  {
   "cell_type": "code",
   "execution_count": 3,
   "metadata": {},
   "outputs": [
    {
     "name": "stdout",
     "output_type": "stream",
     "text": [
      "\n",
      "      Hello, I am Marvin, the simple robot.\n",
      "You can end this conversation at any time by typing 'bye'\n",
      "After typing each answer, press 'enter'\n",
      "\n",
      "Did you catch the game last night?\n",
      "Why do you say that?\n",
      "Funny weather we've been having, isn't it?\n",
      "Why do you say that?\n",
      "That is quite interesting, please tell me more.\n",
      "Funny weather we've been having, isn't it?\n",
      "Did you catch the game last night?\n",
      "Funny weather we've been having, isn't it?\n",
      "It was nice talking to you, bye!\n"
     ]
    }
   ],
   "source": [
    "from random import random\n",
    "from math import floor\n",
    "\n",
    "random_responses = [\n",
    "    \"That is quite interesting, please tell me more.\",\n",
    "    \"I see. Do go on.\",\n",
    "    \"Why do you say that?\",\n",
    "    \"Funny weather we've been having, isn't it?\",\n",
    "    \"Let's change the subject.\",\n",
    "    \"Did you catch the game last night?\",\n",
    "]\n",
    "\n",
    "print(\n",
    "    \"\"\"\n",
    "      Hello, I am Marvin, the simple robot.\n",
    "You can end this conversation at any time by typing 'bye'\n",
    "After typing each answer, press 'enter'\n",
    "\"\"\"\n",
    ")\n",
    "\n",
    "while True:\n",
    "    userChoice = input()\n",
    "    if userChoice == 'bye':\n",
    "        print(\"It was nice talking to you, bye!\")\n",
    "        break\n",
    "    print(random_responses[floor(random()* len(random_responses))])\n",
    "    "
   ]
  },
  {
   "cell_type": "code",
   "execution_count": null,
   "metadata": {},
   "outputs": [],
   "source": []
  }
 ],
 "metadata": {
  "kernelspec": {
   "display_name": "myenv",
   "language": "python",
   "name": "python3"
  },
  "language_info": {
   "codemirror_mode": {
    "name": "ipython",
    "version": 3
   },
   "file_extension": ".py",
   "mimetype": "text/x-python",
   "name": "python",
   "nbconvert_exporter": "python",
   "pygments_lexer": "ipython3",
   "version": "3.12.3"
  }
 },
 "nbformat": 4,
 "nbformat_minor": 2
}
