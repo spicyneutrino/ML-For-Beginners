{
 "cells": [
  {
   "cell_type": "code",
   "execution_count": 1,
   "metadata": {},
   "outputs": [],
   "source": [
    "from textblob import TextBlob\n"
   ]
  },
  {
   "cell_type": "code",
   "execution_count": 3,
   "metadata": {},
   "outputs": [],
   "source": [
    "# You should download the book text, clean it, and import it here\n",
    "with open(\"../pride_and_prejudice.txt\", encoding=\"utf8\") as f:\n",
    "    file_contents = f.read()\n"
   ]
  },
  {
   "cell_type": "code",
   "execution_count": 4,
   "metadata": {},
   "outputs": [],
   "source": [
    "book_pride = TextBlob(file_contents)\n",
    "positive_sentiment_sentences = []\n",
    "negative_sentiment_sentences = []"
   ]
  },
  {
   "cell_type": "code",
   "execution_count": 5,
   "metadata": {},
   "outputs": [],
   "source": [
    "for sentence in book_pride.sentences:\n",
    "    if sentence.sentiment.polarity == 1:\n",
    "        positive_sentiment_sentences.append(sentence)\n",
    "    if sentence.sentiment.polarity == -1:\n",
    "        negative_sentiment_sentences.append(sentence)\n"
   ]
  },
  {
   "cell_type": "code",
   "execution_count": 6,
   "metadata": {},
   "outputs": [
    {
     "name": "stdout",
     "output_type": "stream",
     "text": [
      "The 26 most positive sentences:\n",
      "+ “What an excellent father you have, girls,” said she, when the door was shut.\n",
      "+ He walked here, and he walked there, fancying himself so very great!\n",
      "+ Mr. Darcy replied, with great intrepidity,—“Miss Elizabeth Bennet.”“Miss Elizabeth Bennet!” repeated Miss Bingley.\n",
      "+ “Your examination of Mr. Darcy is over, I presume,” said Miss Bingley; “and pray what is the result?”“I am perfectly convinced by it that Mr. Darcy has no defect.\n",
      "+ Family pride, and filial pride, for he is very proud of what his father was, have done this.\n",
      "+ That would be the greatest misfortune of all!\n",
      "+ How wonderfully these sort of things occur!\n",
      "+ She owed her greatest relief to her friend Miss Lucas, who often joined them, and good-naturedly engaged Mr. Collins’s conversation to herself.\n",
      "+ The improvement of spending a night in London was added in time, and the plan became as perfect as plan could be.\n",
      "+ She is a very great favourite with some ladies of my acquaintance, Mrs. Hurst and Miss Bingley.\n",
      "+ It is done, however, and it was done for the best.\n",
      "+ I have the greatest dislike in the world to that sort of thing.\n",
      "+ Charlotte is an excellent manager, I dare say.\n",
      "+ “His father was an excellent man,” said Mrs. Gardiner.\n",
      "+ “He is the best landlord, and the best master,” said she, “that ever lived.\n",
      "+ “He is perfectly well-behaved, polite, and unassuming,” said her uncle.\n",
      "+ On reaching the house, they were shown through the hall into the saloon, whose northern aspect rendered it delightful for summer.\n",
      "+ Our distress, my dear Lizzy, is very great.\n",
      "+ And tell my dear Lydia not to give any directions about her clothes till she has seen me, for she does not know which are the best warehouses.\n",
      "+ “My dear, dear Lydia!” she cried: “this is delightful indeed!\n",
      "+ Excellent parsonage-house!\n",
      "+ But, however, he is very welcome to come to Netherfield, if he likes it.\n",
      "+ Happy shall I be when his stay at Netherfield is over!”“I wish I could say anything to comfort you,” replied Elizabeth; “but it is wholly out of my power.\n",
      "+ If I could but see you as happy!\n",
      "+ He is perfectly amiable.\n",
      "+ Your idea of the ponies is delightful.\n"
     ]
    }
   ],
   "source": [
    "print(\"The \" + str(len(positive_sentiment_sentences)) + \" most positive sentences:\")\n",
    "for sentence in positive_sentiment_sentences:\n",
    "    print(\"+ \" + str(sentence.replace(\"\\n\", \"\").replace(\"      \", \" \")))\n"
   ]
  },
  {
   "cell_type": "code",
   "execution_count": 7,
   "metadata": {},
   "outputs": [
    {
     "name": "stdout",
     "output_type": "stream",
     "text": [
      "The 14 most negative sentences:\n",
      "- Everybody is disgusted with his pride.\n",
      "- what can have induced him to behave so cruelly?”“A thorough, determined dislike of me—a dislike which I cannot but attribute in some measure to jealousy.\n",
      "- To find a man agreeable whom one is determined to hate!\n",
      "- “I should like to know how he behaves among strangers.”“You shall hear, then—but prepare for something very dreadful.\n",
      "- The pause was to Elizabeth’s feelings dreadful.\n",
      "- “Wickham so very bad!\n",
      "- The separation between her and her family was rather noisy than pathetic.\n",
      "- It would be dreadful!\n",
      "- can she be ignorant of what you and Jane seem so well to understand?”“Oh, yes!—that, that is the worst of all.\n",
      "- “She is so fond of Mrs. Forster,” said she, “it will be quite shocking to send her away!\n",
      "- It was all over before I arrived; so my curiosity was not so dreadfully racked as yours seems to have been.\n",
      "- He called it, therefore, his duty to step forward, and endeavour to remedy an evil which had been brought on by himself.\n",
      "- How you must have hated me after that evening!”“Hate you!\n",
      "- You were disgusted with the women who were always speaking, and looking, and thinking for your approbation alone.\n"
     ]
    }
   ],
   "source": [
    "print(\"The \" + str(len(negative_sentiment_sentences)) + \" most negative sentences:\")\n",
    "for sentence in negative_sentiment_sentences:\n",
    "    print(\"- \" + str(sentence.replace(\"\\n\", \"\").replace(\"      \", \" \")))"
   ]
  },
  {
   "cell_type": "code",
   "execution_count": null,
   "metadata": {},
   "outputs": [],
   "source": []
  }
 ],
 "metadata": {
  "kernelspec": {
   "display_name": "myenv",
   "language": "python",
   "name": "python3"
  },
  "language_info": {
   "codemirror_mode": {
    "name": "ipython",
    "version": 3
   },
   "file_extension": ".py",
   "mimetype": "text/x-python",
   "name": "python",
   "nbconvert_exporter": "python",
   "pygments_lexer": "ipython3",
   "version": "3.12.3"
  },
  "orig_nbformat": 4
 },
 "nbformat": 4,
 "nbformat_minor": 2
}
