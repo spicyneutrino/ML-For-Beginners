{
 "cells": [
  {
   "cell_type": "code",
   "execution_count": 1,
   "metadata": {},
   "outputs": [],
   "source": [
    "from textblob import TextBlob\n",
    "from textblob.np_extractors import ConllExtractor\n",
    "\n",
    "extractor = ConllExtractor()\n"
   ]
  },
  {
   "cell_type": "code",
   "execution_count": 6,
   "metadata": {},
   "outputs": [
    {
     "name": "stdout",
     "output_type": "stream",
     "text": [
      "How are you today?\n",
      "Hmm, that's not great. Can you tell me more about feeling good/s? \n",
      "\n",
      "Wow, that sounds great. Can you tell me more? \n",
      "\n",
      "Wow, that sounds great. Can you tell me more about good days? \n",
      "\n",
      "Hmm, that's not great. Can you tell me more? \n",
      "\n",
      "Hmm, that's not great. Can you tell me more? \n",
      "\n",
      "Hmm, that's not great. Can you tell me more? \n",
      "\n",
      "Wow, that sounds great. Can you tell me more? \n",
      "\n",
      "Hmm, that's not great. Can you tell me more? \n",
      "\n",
      "Well, that sounds positive. Can you tell me more? \n",
      "\n",
      "Oh dear, that sounds bad. Can you tell me more? \n",
      "\n",
      "Oh dear, that sounds bad. Can you tell me more? \n",
      "\n",
      "Oh dear, that sounds bad. Can you tell me more? \n",
      "\n",
      "Well, that sounds positive. Can you tell me more? \n",
      "\n",
      "Hmm, that's not great. Can you tell me more? \n",
      "\n",
      "Hmm, that's not great. Can you tell me more? \n",
      "\n",
      "It was nice talking to you, goodbye!\n"
     ]
    }
   ],
   "source": [
    "print(\"How are you today?\")\n",
    "\n",
    "while True:\n",
    "    user_input_blob = TextBlob(input(), np_extractor=extractor)\n",
    "    noun_phrases = user_input_blob.noun_phrases\n",
    "\n",
    "    if \"bye\" in user_input_blob:\n",
    "        print(\"It was nice talking to you, goodbye!\")\n",
    "        break\n",
    "\n",
    "    if user_input_blob.polarity <= -0.5:\n",
    "        response = \"Oh dear, that sounds bad. \"\n",
    "    elif user_input_blob.polarity <= 0:\n",
    "        response = \"Hmm, that's not great. \"\n",
    "    elif user_input_blob.polarity <= 0.5:\n",
    "        response = \"Well, that sounds positive. \"\n",
    "    elif user_input_blob.polarity <= 1:\n",
    "        response = \"Wow, that sounds great. \"\n",
    "        \n",
    "    if (len(noun_phrases) != 0):\n",
    "        response += \"Can you tell me more about \" + noun_phrases[0].pluralize() + \"?\"\n",
    "    else:\n",
    "        response += \"Can you tell me more?\"\n",
    "\n",
    "    print(response, \"\\n\")"
   ]
  },
  {
   "cell_type": "code",
   "execution_count": null,
   "metadata": {},
   "outputs": [],
   "source": []
  }
 ],
 "metadata": {
  "kernelspec": {
   "display_name": "myenv",
   "language": "python",
   "name": "python3"
  },
  "language_info": {
   "codemirror_mode": {
    "name": "ipython",
    "version": 3
   },
   "file_extension": ".py",
   "mimetype": "text/x-python",
   "name": "python",
   "nbconvert_exporter": "python",
   "pygments_lexer": "ipython3",
   "version": "3.12.3"
  }
 },
 "nbformat": 4,
 "nbformat_minor": 2
}
